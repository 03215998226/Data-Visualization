{
 "cells": [
  {
   "cell_type": "markdown",
   "id": "7923c5a8",
   "metadata": {},
   "source": [
    "# 🌳 Trees, Bushes & Grass — Data Visualization Project\n",
    "\n",
    "## 📑 Table of Contents\n",
    "1. Introduction\n",
    "2. Data Loading & Overview\n",
    "3. Data Cleaning\n",
    "4. Initial Exploration\n",
    "5. Visualizing Green Balance\n",
    "6. Interactive Visualizations\n",
    "7. Creative RGB Mapping\n",
    "8. Insights & Observations\n",
    "9. Conclusion"
   ]
  },
  {
   "cell_type": "markdown",
   "id": "cdac72ac",
   "metadata": {},
   "source": [
    "### 🧠 Introduction\n",
    "This data visualization project explores the **distribution of greenery** (trees, bushes, and grass) across 4-digit postcodes in the Netherlands.\n",
    "\n",
    "### 🎯 Objective:\n",
    "- Understand how green space is spread across different regions.\n",
    "- Detect imbalances — areas with too much of one type and too little of another.\n",
    "- Visualize each area's unique green composition creatively, especially through **color mapping**.\n",
    "\n",
    "The dataset includes:\n",
    "- Surface percentages of **trees**, **bushes**, and **grass**\n",
    "- Per 4-digit postcode (PC4)\n",
    "- Percentages may overlap (e.g., grass under trees), so totals may exceed 100%\n",
    "\n",
    "We will use this data to answer questions like:\n",
    "- Which areas have poor green balance?\n",
    "- Can we creatively represent each postcode’s greenery using color?"
   ]
  },
  {
   "cell_type": "code",
   "execution_count": 2,
   "id": "f344658f",
   "metadata": {},
   "outputs": [
    {
     "name": "stdout",
     "output_type": "stream",
     "text": [
      "<class 'pandas.core.frame.DataFrame'>\n",
      "RangeIndex: 4070 entries, 0 to 4069\n",
      "Data columns (total 4 columns):\n",
      " #   Column            Non-Null Count  Dtype \n",
      "---  ------            --------------  ----- \n",
      " 0   Postcode          4070 non-null   int64 \n",
      " 1   PercentageTrees   4070 non-null   object\n",
      " 2   PercentageBushes  4070 non-null   object\n",
      " 3   PercentageGrass   4070 non-null   object\n",
      "dtypes: int64(1), object(3)\n",
      "memory usage: 127.3+ KB\n"
     ]
    },
    {
     "data": {
      "text/html": [
       "<div>\n",
       "<style scoped>\n",
       "    .dataframe tbody tr th:only-of-type {\n",
       "        vertical-align: middle;\n",
       "    }\n",
       "\n",
       "    .dataframe tbody tr th {\n",
       "        vertical-align: top;\n",
       "    }\n",
       "\n",
       "    .dataframe thead th {\n",
       "        text-align: right;\n",
       "    }\n",
       "</style>\n",
       "<table border=\"1\" class=\"dataframe\">\n",
       "  <thead>\n",
       "    <tr style=\"text-align: right;\">\n",
       "      <th></th>\n",
       "      <th>Postcode</th>\n",
       "      <th>PercentageTrees</th>\n",
       "      <th>PercentageBushes</th>\n",
       "      <th>PercentageGrass</th>\n",
       "    </tr>\n",
       "  </thead>\n",
       "  <tbody>\n",
       "    <tr>\n",
       "      <th>0</th>\n",
       "      <td>1011</td>\n",
       "      <td>20,29</td>\n",
       "      <td>5,89</td>\n",
       "      <td>17,21</td>\n",
       "    </tr>\n",
       "    <tr>\n",
       "      <th>1</th>\n",
       "      <td>1012</td>\n",
       "      <td>16,31</td>\n",
       "      <td>4,38</td>\n",
       "      <td>13,89</td>\n",
       "    </tr>\n",
       "    <tr>\n",
       "      <th>2</th>\n",
       "      <td>1013</td>\n",
       "      <td>21,12</td>\n",
       "      <td>7,54</td>\n",
       "      <td>30,54</td>\n",
       "    </tr>\n",
       "    <tr>\n",
       "      <th>3</th>\n",
       "      <td>1014</td>\n",
       "      <td>29,92</td>\n",
       "      <td>10,18</td>\n",
       "      <td>41,75</td>\n",
       "    </tr>\n",
       "    <tr>\n",
       "      <th>4</th>\n",
       "      <td>1015</td>\n",
       "      <td>21,36</td>\n",
       "      <td>7,43</td>\n",
       "      <td>17,37</td>\n",
       "    </tr>\n",
       "  </tbody>\n",
       "</table>\n",
       "</div>"
      ],
      "text/plain": [
       "   Postcode PercentageTrees PercentageBushes PercentageGrass\n",
       "0      1011           20,29             5,89           17,21\n",
       "1      1012           16,31             4,38           13,89\n",
       "2      1013           21,12             7,54           30,54\n",
       "3      1014           29,92            10,18           41,75\n",
       "4      1015           21,36             7,43           17,37"
      ]
     },
     "execution_count": 2,
     "metadata": {},
     "output_type": "execute_result"
    }
   ],
   "source": [
    "# 📥 Data Loading & Overview\n",
    "\n",
    "import pandas as pd\n",
    "\n",
    "# Load the dataset\n",
    "df = pd.read_csv('PC4_TreesBushesGrass.csv', delimiter=';')\n",
    "\n",
    "# Check the structure and data types\n",
    "df.info()\n",
    "\n",
    "# View the first few rows\n",
    "df.head()\n"
   ]
  },
  {
   "cell_type": "markdown",
   "id": "bfd70a44",
   "metadata": {},
   "source": [
    "## 🧹 Data Cleaning\n",
    "\n",
    "Before we perform any analysis or visualizations, it's essential to clean the dataset and ensure it is in the proper format.\n",
    "\n",
    "### 🔍 Cleaning Steps:\n",
    "1. **Standardize column names** to lowercase and underscores for consistency.\n",
    "2. **Check for missing values** in any column.\n",
    "3. **Check for duplicate postcodes**, which might indicate repeated rows or errors.\n",
    "\n",
    "This step ensures that our data is tidy and\n"
   ]
  },
  {
   "cell_type": "code",
   "execution_count": 3,
   "id": "270889a6",
   "metadata": {},
   "outputs": [
    {
     "name": "stdout",
     "output_type": "stream",
     "text": [
      "Missing values per column:\n",
      "postcode            0\n",
      "percentagetrees     0\n",
      "percentagebushes    0\n",
      "percentagegrass     0\n",
      "dtype: int64\n",
      "\n",
      "Number of duplicate postcodes:\n",
      "0\n"
     ]
    }
   ],
   "source": [
    "# Standardize column names\n",
    "df.columns = df.columns.str.strip().str.lower().str.replace(\" \", \"_\")\n",
    "\n",
    "# Check for missing values\n",
    "print(\"Missing values per column:\")\n",
    "print(df.isnull().sum())\n",
    "\n",
    "# Check for duplicate postcodes\n",
    "print(\"\\nNumber of duplicate postcodes:\")\n",
    "print(df.duplicated(subset='postcode').sum())\n"
   ]
  },
  {
   "cell_type": "markdown",
   "id": "9bb21c36",
   "metadata": {},
   "source": [
    "## 🔍 Initial Exploration\n",
    "\n",
    "Now that the dataset is clean, let’s begin with basic data exploration.\n",
    "\n",
    "### 🎯 Goals:\n",
    "- Understand how trees, bushes, and grass percentages are distributed\n",
    "- Check for unusually high or low green values\n",
    "- Calculate total green coverage per postcode\n"
   ]
  },
  {
   "cell_type": "code",
   "execution_count": 4,
   "id": "4c92a718",
   "metadata": {},
   "outputs": [
    {
     "name": "stdout",
     "output_type": "stream",
     "text": [
      "📊 Descriptive Statistics:\n",
      "\n",
      "       percentagetrees percentagebushes percentagegrass\n",
      "count             4070             4070            4070\n",
      "unique            2503              711            2581\n",
      "top              26,84             8,06           45,44\n",
      "freq                 8               23               6\n",
      "\n",
      "🌿 Total Green Coverage Stats:\n",
      "\n",
      "count               4070\n",
      "unique              4070\n",
      "top       20,295,8917,21\n",
      "freq                   1\n",
      "Name: total_green, dtype: object\n",
      "\n",
      "⚠️ Top 5 Postcodes with Highest Total Green:\n",
      "\n",
      "      postcode percentagetrees percentagebushes percentagegrass    total_green\n",
      "1416      4302            9,86             9,63           55,66  9,869,6355,66\n",
      "462       1992            9,50             7,29           35,95  9,507,2935,95\n",
      "726       2673            9,31             6,40           34,49  9,316,4034,49\n",
      "1578      4652            9,16             6,99           54,84  9,166,9954,84\n",
      "3472      8885            9,04             8,30           77,75  9,048,3077,75\n"
     ]
    }
   ],
   "source": [
    "# Describe each greenery category\n",
    "print(\"📊 Descriptive Statistics:\\n\")\n",
    "print(df[['percentagetrees', 'percentagebushes', 'percentagegrass']].describe())\n",
    "\n",
    "# Calculate total green cover (note: may exceed 100 due to overlap)\n",
    "df['total_green'] = df['percentagetrees'] + df['percentagebushes'] + df['percentagegrass']\n",
    "\n",
    "# Describe total green\n",
    "print(\"\\n🌿 Total Green Coverage Stats:\\n\")\n",
    "print(df['total_green'].describe())\n",
    "\n",
    "# Show examples of postcodes with unusually high green cover\n",
    "print(\"\\n⚠️ Top 5 Postcodes with Highest Total Green:\\n\")\n",
    "print(df.sort_values(by='total_green', ascending=False).head())\n"
   ]
  },
  {
   "cell_type": "code",
   "execution_count": 5,
   "id": "0f43888b",
   "metadata": {},
   "outputs": [
    {
     "name": "stdout",
     "output_type": "stream",
     "text": [
      "📊 Descriptive Statistics (Cleaned):\n"
     ]
    },
    {
     "name": "stdout",
     "output_type": "stream",
     "text": [
      "\n",
      "       percentagetrees  percentagebushes  percentagegrass\n",
      "count      4070.000000       4070.000000      4070.000000\n",
      "mean         32.588693          8.692052        47.587354\n",
      "std          11.483787          1.594413        10.970378\n",
      "min           0.000000          1.990000        13.890000\n",
      "25%          24.392500          7.770000        39.560000\n",
      "50%          29.550000          8.460000        47.335000\n",
      "75%          39.997500          9.290000        55.890000\n",
      "max          70.450000         23.060000        91.490000\n",
      "\n",
      "🌿 Total Green Coverage Stats (Cleaned):\n",
      "\n",
      "count    4070.000000\n",
      "mean       88.868098\n",
      "std        13.494304\n",
      "min        34.580000\n",
      "25%        81.195000\n",
      "50%        91.460000\n",
      "75%        97.910000\n",
      "max       140.810000\n",
      "Name: total_green, dtype: float64\n",
      "\n",
      "⚠️ Top 5 Postcodes with Highest Total Green (Cleaned):\n",
      "\n",
      "      postcode  percentagetrees  percentagebushes  percentagegrass  \\\n",
      "3478      8896            63.01             10.03            67.77   \n",
      "3480      8899            52.61             11.95            75.94   \n",
      "3476      8894            57.27              9.11            70.56   \n",
      "3468      8881            52.36             11.97            72.44   \n",
      "423       1865            48.21             16.07            67.92   \n",
      "\n",
      "      total_green  \n",
      "3478       140.81  \n",
      "3480       140.50  \n",
      "3476       136.94  \n",
      "3468       136.77  \n",
      "423        132.20  \n"
     ]
    }
   ],
   "source": [
    "# Convert percentage columns from string with commas to float\n",
    "for col in ['percentagetrees', 'percentagebushes', 'percentagegrass']:\n",
    "    df[col] = df[col].str.replace(',', '.').astype(float)\n",
    "\n",
    "# Recalculate total green after conversion\n",
    "df['total_green'] = df['percentagetrees'] + df['percentagebushes'] + df['percentagegrass']\n",
    "\n",
    "# Check the updated stats again\n",
    "print(\"📊 Descriptive Statistics (Cleaned):\\n\")\n",
    "print(df[['percentagetrees', 'percentagebushes', 'percentagegrass']].describe())\n",
    "\n",
    "print(\"\\n🌿 Total Green Coverage Stats (Cleaned):\\n\")\n",
    "print(df['total_green'].describe())\n",
    "\n",
    "print(\"\\n⚠️ Top 5 Postcodes with Highest Total Green (Cleaned):\\n\")\n",
    "print(df.sort_values(by='total_green', ascending=False).head())\n"
   ]
  },
  {
   "cell_type": "markdown",
   "id": "b7f1cdff",
   "metadata": {},
   "source": [
    "## 🌿 Visualizing the Green Distribution\n",
    "\n",
    "To understand how green types are distributed across postcodes, we start with basic histograms.\n",
    "\n",
    "### 📊 Goals:\n",
    "- See how trees, bushes, and grass percentages vary\n",
    "- Spot which green type dominates most regions\n",
    "- Identify outliers or skewed distributions\n",
    "\n",
    "Histograms help us visually interpret spread and concentration.\n"
   ]
  },
  {
   "cell_type": "code",
   "execution_count": 6,
   "id": "2d695e06",
   "metadata": {},
   "outputs": [
    {
     "name": "stderr",
     "output_type": "stream",
     "text": [
      "C:\\Users\\HP1\\AppData\\Local\\Temp\\ipykernel_30084\\3646245611.py:4: MatplotlibDeprecationWarning: The seaborn styles shipped by Matplotlib are deprecated since 3.6, as they no longer correspond to the styles shipped by seaborn. However, they will remain available as 'seaborn-v0_8-<style>'. Alternatively, directly use the seaborn API instead.\n",
      "  plt.style.use('seaborn-whitegrid')\n"
     ]
    },
    {
     "data": {
      "image/png": "[encoded data removed]",
      "text/plain": [
       "<Figure size 1800x500 with 3 Axes>"
      ]
     },
     "metadata": {},
     "output_type": "display_data"
    }
   ],
   "source": [
    "import matplotlib.pyplot as plt\n",
    "\n",
    "# Set a consistent style\n",
    "plt.style.use('seaborn-whitegrid')\n",
    "plt.figure(figsize=(18, 5))\n",
    "\n",
    "# Histogram for Trees\n",
    "plt.subplot(1, 3, 1)\n",
    "plt.hist(df['percentagetrees'], bins=30, color='forestgreen', edgecolor='black')\n",
    "plt.title('Distribution of Tree Coverage (%)')\n",
    "plt.xlabel('Percentage of Trees')\n",
    "plt.ylabel('Number of Postcodes')\n",
    "\n",
    "# Histogram for Bushes\n",
    "plt.subplot(1, 3, 2)\n",
    "plt.hist(df['percentagebushes'], bins=30, color='olive', edgecolor='black')\n",
    "plt.title('Distribution of Bush Coverage (%)')\n",
    "plt.xlabel('Percentage of Bushes')\n",
    "\n",
    "# Histogram for Grass\n",
    "plt.subplot(1, 3, 3)\n",
    "plt.hist(df['percentagegrass'], bins=30, color='limegreen', edgecolor='black')\n",
    "plt.title('Distribution of Grass Coverage (%)')\n",
    "plt.xlabel('Percentage of Grass')\n",
    "\n",
    "plt.tight_layout()\n",
    "plt.show()\n"
   ]
  },
  {
   "cell_type": "markdown",
   "id": "f7d502ec",
   "metadata": {},
   "source": [
    "### 📊 Histogram Observations:\n",
    "\n",
    "- **Tree Coverage**: \n",
    "  - Most postcodes have 20–40% tree coverage.\n",
    "  - Very few have less than 10% or more than 60%.\n",
    "  - The distribution is slightly right-skewed, showing some areas with much higher tree cover.\n",
    "\n",
    "- **Bush Coverage**: \n",
    "  - Most values cluster tightly between **7–10%**.\n",
    "  - Very little variation, indicating bushes are consistently limited in most areas.\n",
    "\n",
    "- **Grass Coverage**:\n",
    "  - Appears normally distributed.\n",
    "  - Most postcodes fall between **35–60%**, peaking around 45–50%.\n",
    "  - Some areas go up to 90%, suggesting very open grassy regions.\n",
    "\n",
    "These plots confirm that **grass dominates the green surface**, while **bushes are least represented** across the Netherlands.\n"
   ]
  },
  {
   "cell_type": "markdown",
   "id": "90ff82e1",
   "metadata": {},
   "source": [
    "## 📏 Visualizing Green Imbalance\n",
    "\n",
    "To measure how balanced the green distribution is across postcodes, we calculate the **standard deviation** of the three green surface types (trees, bushes, grass). \n",
    "\n",
    "### ✅ Interpretation:\n",
    "- A **low standard deviation** indicates that all three percentages are similar → *balanced green*\n",
    "- A **high standard deviation** suggests one type dominates → *unbalanced green*\n",
    "\n",
    "We'll compute this metric and visualize its distribution.\n"
   ]
  },
  {
   "cell_type": "code",
   "execution_count": 7,
   "id": "494375ea",
   "metadata": {},
   "outputs": [
    {
     "name": "stdout",
     "output_type": "stream",
     "text": [
      "📉 Green Imbalance Stats (Standard Deviation):\n",
      "\n",
      "count    4070.000000\n",
      "mean       21.372274\n",
      "std         5.005214\n",
      "min         5.790616\n",
      "25%        18.233479\n",
      "50%        21.597908\n",
      "75%        24.610907\n",
      "max        42.104240\n",
      "Name: green_std, dtype: float64\n"
     ]
    },
    {
     "data": {
      "image/png": "[encoded data removed]",
      "text/plain": [
       "<Figure size 1000x500 with 1 Axes>"
      ]
     },
     "metadata": {},
     "output_type": "display_data"
    }
   ],
   "source": [
    "import numpy as np\n",
    "import matplotlib.pyplot as plt\n",
    "\n",
    "# Calculate standard deviation across the three green types per postcode\n",
    "df['green_std'] = df[['percentagetrees', 'percentagebushes', 'percentagegrass']].std(axis=1)\n",
    "\n",
    "# Basic stats\n",
    "print(\"📉 Green Imbalance Stats (Standard Deviation):\\n\")\n",
    "print(df['green_std'].describe())\n",
    "\n",
    "# Plot the distribution of green imbalance\n",
    "plt.figure(figsize=(10, 5))\n",
    "plt.hist(df['green_std'], bins=30, color='darkorange', edgecolor='black')\n",
    "plt.title('Distribution of Green Imbalance (Std. Dev of T/B/G)')\n",
    "plt.xlabel('Standard Deviation of Green Types')\n",
    "plt.ylabel('Number of Postcodes')\n",
    "plt.grid(True)\n",
    "plt.show()\n"
   ]
  },
  {
   "cell_type": "markdown",
   "id": "c47c8258",
   "metadata": {},
   "source": [
    "## Interactive Visualization"
   ]
  },
  {
   "cell_type": "markdown",
   "id": "f0effdcb",
   "metadata": {},
   "source": [
    "### 📊 Interpretation: Green Imbalance Distribution\n",
    "\n",
    "- The **average imbalance (std dev)** across postcodes is around **21.4**, with a typical range between **18–25**.\n",
    "- A **minimum imbalance** of ~5.8 suggests some postcodes have very balanced green coverage (trees, bushes, and grass are similar).\n",
    "- The **maximum imbalance** exceeds 42, meaning a few areas are heavily dominated by one green type.\n",
    "- The histogram shows a near-normal distribution, peaking around 22 — suggesting most regions have a moderate imbalance.\n",
    "\n",
    "This metric (`green_std`) can help us identify and prioritize postcodes that might benefit from rebalancing green spaces.\n"
   ]
  },
  {
   "cell_type": "markdown",
   "id": "f5caf039",
   "metadata": {},
   "source": [
    "### 📈 Interactive Visualization: Top 50 Tree-Dense Postcodes\n",
    "\n",
    "To enhance the readability and exploration of green data, we use **Plotly** to create an interactive chart.\n",
    "\n",
    "This bar chart shows the **top 50 postcodes with the highest percentage of tree coverage**. You can:\n",
    "- Hover over each bar to see the exact percentage\n",
    "- Zoom in/out or pan to focus on specific areas\n",
    "- Click the legend to filter values\n",
    "- Export the chart as an image for reports\n",
    "\n",
    "This interactive approach allows for deeper insight into which areas are more tree-dense and how they compare with each other.\n"
   ]
  },
  {
   "cell_type": "code",
   "execution_count": 8,
   "id": "4c74e29c",
   "metadata": {},
   "outputs": [
    {
     "data": {
      "application/vnd.plotly.v1+json": {
       "config": {
        "plotlyServerURL": "https://plot.ly"
       },
       "data": [
        {
         "alignmentgroup": "True",
         "hovertemplate": "Postcode=%{x}<br>Tree Coverage (%)=%{marker.color}<extra></extra>",
         "legendgroup": "",
         "marker": {
          "color": [
           70.45,
           68.36,
           67.91,
           67.84,
           67.52,
           67.47,
           66.93,
           66.91,
           66.04,
           65.78,
           65.77,
           65.66,
           65.33,
           65.27,
           64.77,
           64.6,
           64.53,
           64.46,
           64.33,
           64.21,
           64.13,
           64.06,
           64.01,
           63.51,
           63.46,
           63.16,
           63.13,
           63.01,
           62.84,
           62.74,
           62.73,
           62.68,
           62.68,
           62.63,
           62.62,
           62.46,
           62.45,
           62.31,
           62.27,
           61.99,
           61.94,
           61.9,
           61.68,
           61.68,
           61.57,
           61.52,
           61.46,
           61.46,
           61.42,
           61.37
          ],
          "coloraxis": "coloraxis",
          "pattern": {
           "shape": ""
          }
         },
         "name": "",
         "offsetgroup": "",
         "orientation": "v",
         "showlegend": false,
         "textposition": "auto",
         "type": "bar",
         "x": [
          "6572",
          "6957",
          "6994",
          "8572",
          "5085",
          "4645",
          "7981",
          "8564",
          "4624",
          "8387",
          "6891",
          "3775",
          "8567",
          "9246",
          "3735",
          "3852",
          "6952",
          "7873",
          "7339",
          "7985",
          "3971",
          "9533",
          "7313",
          "7351",
          "7346",
          "6961",
          "9467",
          "8896",
          "7036",
          "6586",
          "7795",
          "6704",
          "3886",
          "7785",
          "9447",
          "4641",
          "6705",
          "3941",
          "4858",
          "3749",
          "9443",
          "9331",
          "4635",
          "7361",
          "7106",
          "5175",
          "3847",
          "6865",
          "6732",
          "6105"
         ],
         "xaxis": "x",
         "y": [
          70.45,
          68.36,
          67.91,
          67.84,
          67.52,
          67.47,
          66.93,
          66.91,
          66.04,
          65.78,
          65.77,
          65.66,
          65.33,
          65.27,
          64.77,
          64.6,
          64.53,
          64.46,
          64.33,
          64.21,
          64.13,
          64.06,
          64.01,
          63.51,
          63.46,
          63.16,
          63.13,
          63.01,
          62.84,
          62.74,
          62.73,
          62.68,
          62.68,
          62.63,
          62.62,
          62.46,
          62.45,
          62.31,
          62.27,
          61.99,
          61.94,
          61.9,
          61.68,
          61.68,
          61.57,
          61.52,
          61.46,
          61.46,
          61.42,
          61.37
         ],
         "yaxis": "y"
        }
       ],
       "layout": {
        "bargap": 0.2,
        "barmode": "relative",
        "coloraxis": {
         "colorbar": {
          "title": {
           "text": "Tree Coverage (%)"
          }
         },
         "colorscale": [
          [
           0,
           "rgb(247,252,245)"
          ],
          [
           0.125,
           "rgb(229,245,224)"
          ],
          [
           0.25,
           "rgb(199,233,192)"
          ],
          [
           0.375,
           "rgb(161,217,155)"
          ],
          [
           0.5,
           "rgb(116,196,118)"
          ],
          [
           0.625,
           "rgb(65,171,93)"
          ],
          [
           0.75,
           "rgb(35,139,69)"
          ],
          [
           0.875,
           "rgb(0,109,44)"
          ],
          [
           1,
           "rgb(0,68,27)"
          ]
         ]
        },
        "height": 500,
        "legend": {
         "tracegroupgap": 0
        },
        "template": {
         "data": {
          "bar": [
           {
            "error_x": {
             "color": "#2a3f5f"
            },
            "error_y": {
             "color": "#2a3f5f"
            },
            "marker": {
             "line": {
              "color": "white",
              "width": 0.5
             },
             "pattern": {
              "fillmode": "overlay",
              "size": 10,
              "solidity": 0.2
             }
            },
            "type": "bar"
           }
          ],
          "barpolar": [
           {
            "marker": {
             "line": {
              "color": "white",
              "width": 0.5
             },
             "pattern": {
              "fillmode": "overlay",
              "size": 10,
              "solidity": 0.2
             }
            },
            "type": "barpolar"
           }
          ],
          "carpet": [
           {
            "aaxis": {
             "endlinecolor": "#2a3f5f",
             "gridcolor": "#C8D4E3",
             "linecolor": "#C8D4E3",
             "minorgridcolor": "#C8D4E3",
             "startlinecolor": "#2a3f5f"
            },
            "baxis": {
             "endlinecolor": "#2a3f5f",
             "gridcolor": "#C8D4E3",
             "linecolor": "#C8D4E3",
             "minorgridcolor": "#C8D4E3",
             "startlinecolor": "#2a3f5f"
            },
            "type": "carpet"
           }
          ],
          "choropleth": [
           {
            "colorbar": {
             "outlinewidth": 0,
             "ticks": ""
            },
            "type": "choropleth"
           }
          ],
          "contour": [
           {
            "colorbar": {
             "outlinewidth": 0,
             "ticks": ""
            },
            "colorscale": [
             [
              0,
              "#0d0887"
             ],
             [
              0.1111111111111111,
              "#46039f"
             ],
             [
              0.2222222222222222,
              "#7201a8"
             ],
             [
              0.3333333333333333,
              "#9c179e"
             ],
             [
              0.4444444444444444,
              "#bd3786"
             ],
             [
              0.5555555555555556,
              "#d8576b"
             ],
             [
              0.6666666666666666,
              "#ed7953"
             ],
             [
              0.7777777777777778,
              "#fb9f3a"
             ],
             [
              0.8888888888888888,
              "#fdca26"
             ],
             [
              1,
              "#f0f921"
             ]
            ],
            "type": "contour"
           }
          ],
          "contourcarpet": [
           {
            "colorbar": {
             "outlinewidth": 0,
             "ticks": ""
            },
            "type": "contourcarpet"
           }
          ],
          "heatmap": [
           {
            "colorbar": {
             "outlinewidth": 0,
             "ticks": ""
            },
            "colorscale": [
             [
              0,
              "#0d0887"
             ],
             [
              0.1111111111111111,
              "#46039f"
             ],
             [
              0.2222222222222222,
              "#7201a8"
             ],
             [
              0.3333333333333333,
              "#9c179e"
             ],
             [
              0.4444444444444444,
              "#bd3786"
             ],
             [
              0.5555555555555556,
              "#d8576b"
             ],
             [
              0.6666666666666666,
              "#ed7953"
             ],
             [
              0.7777777777777778,
              "#fb9f3a"
             ],
             [
              0.8888888888888888,
              "#fdca26"
             ],
             [
              1,
              "#f0f921"
             ]
            ],
            "type": "heatmap"
           }
          ],
          "heatmapgl": [
           {
            "colorbar": {
             "outlinewidth": 0,
             "ticks": ""
            },
            "colorscale": [
             [
              0,
              "#0d0887"
             ],
             [
              0.1111111111111111,
              "#46039f"
             ],
             [
              0.2222222222222222,
              "#7201a8"
             ],
             [
              0.3333333333333333,
              "#9c179e"
             ],
             [
              0.4444444444444444,
              "#bd3786"
             ],
             [
              0.5555555555555556,
              "#d8576b"
             ],
             [
              0.6666666666666666,
              "#ed7953"
             ],
             [
              0.7777777777777778,
              "#fb9f3a"
             ],
             [
              0.8888888888888888,
              "#fdca26"
             ],
             [
              1,
              "#f0f921"
             ]
            ],
            "type": "heatmapgl"
           }
          ],
          "histogram": [
           {
            "marker": {
             "pattern": {
              "fillmode": "overlay",
              "size": 10,
              "solidity": 0.2
             }
            },
            "type": "histogram"
           }
          ],
          "histogram2d": [
           {
            "colorbar": {
             "outlinewidth": 0,
             "ticks": ""
            },
            "colorscale": [
             [
              0,
              "#0d0887"
             ],
             [
              0.1111111111111111,
              "#46039f"
             ],
             [
              0.2222222222222222,
              "#7201a8"
             ],
             [
              0.3333333333333333,
              "#9c179e"
             ],
             [
              0.4444444444444444,
              "#bd3786"
             ],
             [
              0.5555555555555556,
              "#d8576b"
             ],
             [
              0.6666666666666666,
              "#ed7953"
             ],
             [
              0.7777777777777778,
              "#fb9f3a"
             ],
             [
              0.8888888888888888,
              "#fdca26"
             ],
             [
              1,
              "#f0f921"
             ]
            ],
            "type": "histogram2d"
           }
          ],
          "histogram2dcontour": [
           {
            "colorbar": {
             "outlinewidth": 0,
             "ticks": ""
            },
            "colorscale": [
             [
              0,
              "#0d0887"
             ],
             [
              0.1111111111111111,
              "#46039f"
             ],
             [
              0.2222222222222222,
              "#7201a8"
             ],
             [
              0.3333333333333333,
              "#9c179e"
             ],
             [
              0.4444444444444444,
              "#bd3786"
             ],
             [
              0.5555555555555556,
              "#d8576b"
             ],
             [
              0.6666666666666666,
              "#ed7953"
             ],
             [
              0.7777777777777778,
              "#fb9f3a"
             ],
             [
              0.8888888888888888,
              "#fdca26"
             ],
             [
              1,
              "#f0f921"
             ]
            ],
            "type": "histogram2dcontour"
           }
          ],
          "mesh3d": [
           {
            "colorbar": {
             "outlinewidth": 0,
             "ticks": ""
            },
            "type": "mesh3d"
           }
          ],
          "parcoords": [
           {
            "line": {
             "colorbar": {
              "outlinewidth": 0,
              "ticks": ""
             }
            },
            "type": "parcoords"
           }
          ],
          "pie": [
           {
            "automargin": true,
            "type": "pie"
           }
          ],
          "scatter": [
           {
            "fillpattern": {
             "fillmode": "overlay",
             "size": 10,
             "solidity": 0.2
            },
            "type": "scatter"
           }
          ],
          "scatter3d": [
           {
            "line": {
             "colorbar": {
              "outlinewidth": 0,
              "ticks": ""
             }
            },
            "marker": {
             "colorbar": {
              "outlinewidth": 0,
              "ticks": ""
             }
            },
            "type": "scatter3d"
           }
          ],
          "scattercarpet": [
           {
            "marker": {
             "colorbar": {
              "outlinewidth": 0,
              "ticks": ""
             }
            },
            "type": "scattercarpet"
           }
          ],
          "scattergeo": [
           {
            "marker": {
             "colorbar": {
              "outlinewidth": 0,
              "ticks": ""
             }
            },
            "type": "scattergeo"
           }
          ],
          "scattergl": [
           {
            "marker": {
             "colorbar": {
              "outlinewidth": 0,
              "ticks": ""
             }
            },
            "type": "scattergl"
           }
          ],
          "scattermapbox": [
           {
            "marker": {
             "colorbar": {
              "outlinewidth": 0,
              "ticks": ""
             }
            },
            "type": "scattermapbox"
           }
          ],
          "scatterpolar": [
           {
            "marker": {
             "colorbar": {
              "outlinewidth": 0,
              "ticks": ""
             }
            },
            "type": "scatterpolar"
           }
          ],
          "scatterpolargl": [
           {
            "marker": {
             "colorbar": {
              "outlinewidth": 0,
              "ticks": ""
             }
            },
            "type": "scatterpolargl"
           }
          ],
          "scatterternary": [
           {
            "marker": {
             "colorbar": {
              "outlinewidth": 0,
              "ticks": ""
             }
            },
            "type": "scatterternary"
           }
          ],
          "surface": [
           {
            "colorbar": {
             "outlinewidth": 0,
             "ticks": ""
            },
            "colorscale": [
             [
              0,
              "#0d0887"
             ],
             [
              0.1111111111111111,
              "#46039f"
             ],
             [
              0.2222222222222222,
              "#7201a8"
             ],
             [
              0.3333333333333333,
              "#9c179e"
             ],
             [
              0.4444444444444444,
              "#bd3786"
             ],
             [
              0.5555555555555556,
              "#d8576b"
             ],
             [
              0.6666666666666666,
              "#ed7953"
             ],
             [
              0.7777777777777778,
              "#fb9f3a"
             ],
             [
              0.8888888888888888,
              "#fdca26"
             ],
             [
              1,
              "#f0f921"
             ]
            ],
            "type": "surface"
           }
          ],
          "table": [
           {
            "cells": {
             "fill": {
              "color": "#EBF0F8"
             },
             "line": {
              "color": "white"
             }
            },
            "header": {
             "fill": {
              "color": "#C8D4E3"
             },
             "line": {
              "color": "white"
             }
            },
            "type": "table"
           }
          ]
         },
         "layout": {
          "annotationdefaults": {
           "arrowcolor": "#2a3f5f",
           "arrowhead": 0,
           "arrowwidth": 1
          },
          "autotypenumbers": "strict",
          "coloraxis": {
           "colorbar": {
            "outlinewidth": 0,
            "ticks": ""
           }
          },
          "colorscale": {
           "diverging": [
            [
             0,
             "#8e0152"
            ],
            [
             0.1,
             "#c51b7d"
            ],
            [
             0.2,
             "#de77ae"
            ],
            [
             0.3,
             "#f1b6da"
            ],
            [
             0.4,
             "#fde0ef"
            ],
            [
             0.5,
             "#f7f7f7"
            ],
            [
             0.6,
             "#e6f5d0"
            ],
            [
             0.7,
             "#b8e186"
            ],
            [
             0.8,
             "#7fbc41"
            ],
            [
             0.9,
             "#4d9221"
            ],
            [
             1,
             "#276419"
            ]
           ],
           "sequential": [
            [
             0,
             "#0d0887"
            ],
            [
             0.1111111111111111,
             "#46039f"
            ],
            [
             0.2222222222222222,
             "#7201a8"
            ],
            [
             0.3333333333333333,
             "#9c179e"
            ],
            [
             0.4444444444444444,
             "#bd3786"
            ],
            [
             0.5555555555555556,
             "#d8576b"
            ],
            [
             0.6666666666666666,
             "#ed7953"
            ],
            [
             0.7777777777777778,
             "#fb9f3a"
            ],
            [
             0.8888888888888888,
             "#fdca26"
            ],
            [
             1,
             "#f0f921"
            ]
           ],
           "sequentialminus": [
            [
             0,
             "#0d0887"
            ],
            [
             0.1111111111111111,
             "#46039f"
            ],
            [
             0.2222222222222222,
             "#7201a8"
            ],
            [
             0.3333333333333333,
             "#9c179e"
            ],
            [
             0.4444444444444444,
             "#bd3786"
            ],
            [
             0.5555555555555556,
             "#d8576b"
            ],
            [
             0.6666666666666666,
             "#ed7953"
            ],
            [
             0.7777777777777778,
             "#fb9f3a"
            ],
            [
             0.8888888888888888,
             "#fdca26"
            ],
            [
             1,
             "#f0f921"
            ]
           ]
          },
          "colorway": [
           "#636efa",
           "#EF553B",
           "#00cc96",
           "#ab63fa",
           "#FFA15A",
           "#19d3f3",
           "#FF6692",
           "#B6E880",
           "#FF97FF",
           "#FECB52"
          ],
          "font": {
           "color": "#2a3f5f"
          },
          "geo": {
           "bgcolor": "white",
           "lakecolor": "white",
           "landcolor": "white",
           "showlakes": true,
           "showland": true,
           "subunitcolor": "#C8D4E3"
          },
          "hoverlabel": {
           "align": "left"
          },
          "hovermode": "closest",
          "mapbox": {
           "style": "light"
          },
          "paper_bgcolor": "white",
          "plot_bgcolor": "white",
          "polar": {
           "angularaxis": {
            "gridcolor": "#EBF0F8",
            "linecolor": "#EBF0F8",
            "ticks": ""
           },
           "bgcolor": "white",
           "radialaxis": {
            "gridcolor": "#EBF0F8",
            "linecolor": "#EBF0F8",
            "ticks": ""
           }
          },
          "scene": {
           "xaxis": {
            "backgroundcolor": "white",
            "gridcolor": "#DFE8F3",
            "gridwidth": 2,
            "linecolor": "#EBF0F8",
            "showbackground": true,
            "ticks": "",
            "zerolinecolor": "#EBF0F8"
           },
           "yaxis": {
            "backgroundcolor": "white",
            "gridcolor": "#DFE8F3",
            "gridwidth": 2,
            "linecolor": "#EBF0F8",
            "showbackground": true,
            "ticks": "",
            "zerolinecolor": "#EBF0F8"
           },
           "zaxis": {
            "backgroundcolor": "white",
            "gridcolor": "#DFE8F3",
            "gridwidth": 2,
            "linecolor": "#EBF0F8",
            "showbackground": true,
            "ticks": "",
            "zerolinecolor": "#EBF0F8"
           }
          },
          "shapedefaults": {
           "line": {
            "color": "#2a3f5f"
           }
          },
          "ternary": {
           "aaxis": {
            "gridcolor": "#DFE8F3",
            "linecolor": "#A2B1C6",
            "ticks": ""
           },
           "baxis": {
            "gridcolor": "#DFE8F3",
            "linecolor": "#A2B1C6",
            "ticks": ""
           },
           "bgcolor": "white",
           "caxis": {
            "gridcolor": "#DFE8F3",
            "linecolor": "#A2B1C6",
            "ticks": ""
           }
          },
          "title": {
           "x": 0.05
          },
          "xaxis": {
           "automargin": true,
           "gridcolor": "#EBF0F8",
           "linecolor": "#EBF0F8",
           "ticks": "",
           "title": {
            "standoff": 15
           },
           "zerolinecolor": "#EBF0F8",
           "zerolinewidth": 2
          },
          "yaxis": {
           "automargin": true,
           "gridcolor": "#EBF0F8",
           "linecolor": "#EBF0F8",
           "ticks": "",
           "title": {
            "standoff": 15
           },
           "zerolinecolor": "#EBF0F8",
           "zerolinewidth": 2
          }
         }
        },
        "title": {
         "text": "🌳 Top 50 Postcodes by Tree Coverage (%)"
        },
        "xaxis": {
         "anchor": "y",
         "domain": [
          0,
          1
         ],
         "tickangle": -45,
         "title": {
          "text": "Postcode"
         },
         "type": "category"
        },
        "yaxis": {
         "anchor": "x",
         "domain": [
          0,
          1
         ],
         "title": {
          "text": "Tree Coverage (%)"
         }
        }
       }
      }
     },
     "metadata": {},
     "output_type": "display_data"
    }
   ],
   "source": [
    "import plotly.express as px\n",
    "\n",
    "# Sort top 50 greenest postcodes by tree percentage\n",
    "top_trees = df.sort_values(by='percentagetrees', ascending=False).head(50)\n",
    "\n",
    "# Convert postcode to string to force category behavior\n",
    "top_trees['postcode'] = top_trees['postcode'].astype(str)\n",
    "\n",
    "# Create an interactive bar chart\n",
    "fig = px.bar(\n",
    "    top_trees,\n",
    "    x='postcode',\n",
    "    y='percentagetrees',\n",
    "    color='percentagetrees',\n",
    "    color_continuous_scale='Greens',\n",
    "    title='🌳 Top 50 Postcodes by Tree Coverage (%)',\n",
    "    labels={'percentagetrees': 'Tree Coverage (%)', 'postcode': 'Postcode'},\n",
    "    height=500\n",
    ")\n",
    "\n",
    "# Improve layout\n",
    "fig.update_layout(\n",
    "    xaxis_tickangle=-45,\n",
    "    bargap=0.2,  # reduce gap between bars\n",
    "    xaxis_type='category',  # treat postcodes as categories\n",
    "    template='plotly_white'\n",
    ")\n",
    "\n",
    "fig.show()\n"
   ]
  },
  {
   "cell_type": "markdown",
   "id": "d5136be3",
   "metadata": {},
   "source": [
    "### 🔍 Interpretation of the Interactive Chart\n",
    "\n",
    "This interactive chart highlights the **top 50 Dutch postcodes with the highest percentage of tree coverage**.\n",
    "\n",
    "- The postcodes are sorted in descending order, with the greenest areas on the left.\n",
    "- The color intensity of each bar reflects the tree percentage — darker green indicates more tree coverage.\n",
    "- Hovering over each bar reveals the exact postcode and its corresponding tree percentage.\n",
    "- This visualization makes it easy to spot the most tree-rich areas in the Netherlands.\n",
    "\n",
    "Such interactive charts allow users to **explore trends and spot outliers more intuitively** than static graphs.\n"
   ]
  },
  {
   "cell_type": "markdown",
   "id": "0a84c19d",
   "metadata": {},
   "source": [
    "### 📊 Interactive Visualization: Green Imbalance Across Postcodes\n",
    "\n",
    "This chart shows the **top 50 postcodes with the highest green imbalance**, based on the standard deviation between tree, bush, and grass percentages.\n",
    "\n",
    "- A **higher standard deviation** means more imbalance (e.g., only trees or only grass).\n",
    "- A **lower value** indicates a more balanced mix of green types.\n",
    "\n",
    "This helps identify ecologically skewed areas where one type of green space dominates.\n"
   ]
  },
  {
   "cell_type": "code",
   "execution_count": 9,
   "id": "f7892ec3",
   "metadata": {},
   "outputs": [
    {
     "data": {
      "application/vnd.plotly.v1+json": {
       "config": {
        "plotlyServerURL": "https://plot.ly"
       },
       "data": [
        {
         "alignmentgroup": "True",
         "hovertemplate": "Postcode=%{x}<br>Green Imbalance (Std. Dev)=%{marker.color}<extra></extra>",
         "legendgroup": "",
         "marker": {
          "color": [
           42.10424008735145,
           41.453230272199534,
           41.170364341356034,
           39.88507281343903,
           39.478946710029305,
           39.090266051793506,
           38.95236064733433,
           38.645907070909,
           38.41863133081829,
           38.11681562425347,
           37.52242307385456,
           37.20862937545537,
           37.018760559118306,
           36.99782471083041,
           36.953133831922834,
           36.895745463851696,
           36.099399348650294,
           36.07295570553283,
           35.57340626554243,
           35.562733771932294,
           35.34630390861257,
           35.30054579370315,
           35.19629289191311,
           35.1221909908821,
           35.02527135274377,
           34.941145277928904,
           34.93740736421827,
           34.88900160986744,
           34.6514299849227,
           34.57694222069577,
           34.562100630604036,
           34.468970103558355,
           34.43684267370244,
           34.36460727744947,
           34.354971013425896,
           34.28585714255953,
           34.27844220497775,
           34.167610881262,
           34.11663865818749,
           33.99635911878408,
           33.750527897106046,
           33.65111043239633,
           33.63873808572491,
           33.46665554448686,
           33.448143446236294,
           33.442095229416076,
           33.32719960232683,
           33.2420130758252,
           33.179109391302234,
           33.03201527811062
          ],
          "coloraxis": "coloraxis",
          "pattern": {
           "shape": ""
          }
         },
         "name": "",
         "offsetgroup": "",
         "orientation": "v",
         "showlegend": false,
         "textposition": "auto",
         "type": "bar",
         "x": [
          "8897",
          "8269",
          "9164",
          "8885",
          "3895",
          "4568",
          "1117",
          "8883",
          "8892",
          "8884",
          "8373",
          "8323",
          "3267",
          "1797",
          "8893",
          "9455",
          "8891",
          "8362",
          "5366",
          "8361",
          "4437",
          "1795",
          "4414",
          "1118",
          "8612",
          "9688",
          "6312",
          "4235",
          "2236",
          "5396",
          "2143",
          "9359",
          "9162",
          "9166",
          "8882",
          "9526",
          "2731",
          "8775",
          "2961",
          "9161",
          "8079",
          "6223",
          "9176",
          "3989",
          "9975",
          "6252",
          "8278",
          "6572",
          "2968",
          "8535"
         ],
         "xaxis": "x",
         "y": [
          42.10424008735145,
          41.453230272199534,
          41.170364341356034,
          39.88507281343903,
          39.478946710029305,
          39.090266051793506,
          38.95236064733433,
          38.645907070909,
          38.41863133081829,
          38.11681562425347,
          37.52242307385456,
          37.20862937545537,
          37.018760559118306,
          36.99782471083041,
          36.953133831922834,
          36.895745463851696,
          36.099399348650294,
          36.07295570553283,
          35.57340626554243,
          35.562733771932294,
          35.34630390861257,
          35.30054579370315,
          35.19629289191311,
          35.1221909908821,
          35.02527135274377,
          34.941145277928904,
          34.93740736421827,
          34.88900160986744,
          34.6514299849227,
          34.57694222069577,
          34.562100630604036,
          34.468970103558355,
          34.43684267370244,
          34.36460727744947,
          34.354971013425896,
          34.28585714255953,
          34.27844220497775,
          34.167610881262,
          34.11663865818749,
          33.99635911878408,
          33.750527897106046,
          33.65111043239633,
          33.63873808572491,
          33.46665554448686,
          33.448143446236294,
          33.442095229416076,
          33.32719960232683,
          33.2420130758252,
          33.179109391302234,
          33.03201527811062
         ],
         "yaxis": "y"
        }
       ],
       "layout": {
        "bargap": 0.2,
        "barmode": "relative",
        "coloraxis": {
         "colorbar": {
          "title": {
           "text": "Green Imbalance (Std. Dev)"
          }
         },
         "colorscale": [
          [
           0,
           "rgb(255,245,235)"
          ],
          [
           0.125,
           "rgb(254,230,206)"
          ],
          [
           0.25,
           "rgb(253,208,162)"
          ],
          [
           0.375,
           "rgb(253,174,107)"
          ],
          [
           0.5,
           "rgb(253,141,60)"
          ],
          [
           0.625,
           "rgb(241,105,19)"
          ],
          [
           0.75,
           "rgb(217,72,1)"
          ],
          [
           0.875,
           "rgb(166,54,3)"
          ],
          [
           1,
           "rgb(127,39,4)"
          ]
         ]
        },
        "height": 500,
        "legend": {
         "tracegroupgap": 0
        },
        "template": {
         "data": {
          "bar": [
           {
            "error_x": {
             "color": "#2a3f5f"
            },
            "error_y": {
             "color": "#2a3f5f"
            },
            "marker": {
             "line": {
              "color": "white",
              "width": 0.5
             },
             "pattern": {
              "fillmode": "overlay",
              "size": 10,
              "solidity": 0.2
             }
            },
            "type": "bar"
           }
          ],
          "barpolar": [
           {
            "marker": {
             "line": {
              "color": "white",
              "width": 0.5
             },
             "pattern": {
              "fillmode": "overlay",
              "size": 10,
              "solidity": 0.2
             }
            },
            "type": "barpolar"
           }
          ],
          "carpet": [
           {
            "aaxis": {
             "endlinecolor": "#2a3f5f",
             "gridcolor": "#C8D4E3",
             "linecolor": "#C8D4E3",
             "minorgridcolor": "#C8D4E3",
             "startlinecolor": "#2a3f5f"
            },
            "baxis": {
             "endlinecolor": "#2a3f5f",
             "gridcolor": "#C8D4E3",
             "linecolor": "#C8D4E3",
             "minorgridcolor": "#C8D4E3",
             "startlinecolor": "#2a3f5f"
            },
            "type": "carpet"
           }
          ],
          "choropleth": [
           {
            "colorbar": {
             "outlinewidth": 0,
             "ticks": ""
            },
            "type": "choropleth"
           }
          ],
          "contour": [
           {
            "colorbar": {
             "outlinewidth": 0,
             "ticks": ""
            },
            "colorscale": [
             [
              0,
              "#0d0887"
             ],
             [
              0.1111111111111111,
              "#46039f"
             ],
             [
              0.2222222222222222,
              "#7201a8"
             ],
             [
              0.3333333333333333,
              "#9c179e"
             ],
             [
              0.4444444444444444,
              "#bd3786"
             ],
             [
              0.5555555555555556,
              "#d8576b"
             ],
             [
              0.6666666666666666,
              "#ed7953"
             ],
             [
              0.7777777777777778,
              "#fb9f3a"
             ],
             [
              0.8888888888888888,
              "#fdca26"
             ],
             [
              1,
              "#f0f921"
             ]
            ],
            "type": "contour"
           }
          ],
          "contourcarpet": [
           {
            "colorbar": {
             "outlinewidth": 0,
             "ticks": ""
            },
            "type": "contourcarpet"
           }
          ],
          "heatmap": [
           {
            "colorbar": {
             "outlinewidth": 0,
             "ticks": ""
            },
            "colorscale": [
             [
              0,
              "#0d0887"
             ],
             [
              0.1111111111111111,
              "#46039f"
             ],
             [
              0.2222222222222222,
              "#7201a8"
             ],
             [
              0.3333333333333333,
              "#9c179e"
             ],
             [
              0.4444444444444444,
              "#bd3786"
             ],
             [
              0.5555555555555556,
              "#d8576b"
             ],
             [
              0.6666666666666666,
              "#ed7953"
             ],
             [
              0.7777777777777778,
              "#fb9f3a"
             ],
             [
              0.8888888888888888,
              "#fdca26"
             ],
             [
              1,
              "#f0f921"
             ]
            ],
            "type": "heatmap"
           }
          ],
          "heatmapgl": [
           {
            "colorbar": {
             "outlinewidth": 0,
             "ticks": ""
            },
            "colorscale": [
             [
              0,
              "#0d0887"
             ],
             [
              0.1111111111111111,
              "#46039f"
             ],
             [
              0.2222222222222222,
              "#7201a8"
             ],
             [
              0.3333333333333333,
              "#9c179e"
             ],
             [
              0.4444444444444444,
              "#bd3786"
             ],
             [
              0.5555555555555556,
              "#d8576b"
             ],
             [
              0.6666666666666666,
              "#ed7953"
             ],
             [
              0.7777777777777778,
              "#fb9f3a"
             ],
             [
              0.8888888888888888,
              "#fdca26"
             ],
             [
              1,
              "#f0f921"
             ]
            ],
            "type": "heatmapgl"
           }
          ],
          "histogram": [
           {
            "marker": {
             "pattern": {
              "fillmode": "overlay",
              "size": 10,
              "solidity": 0.2
             }
            },
            "type": "histogram"
           }
          ],
          "histogram2d": [
           {
            "colorbar": {
             "outlinewidth": 0,
             "ticks": ""
            },
            "colorscale": [
             [
              0,
              "#0d0887"
             ],
             [
              0.1111111111111111,
              "#46039f"
             ],
             [
              0.2222222222222222,
              "#7201a8"
             ],
             [
              0.3333333333333333,
              "#9c179e"
             ],
             [
              0.4444444444444444,
              "#bd3786"
             ],
             [
              0.5555555555555556,
              "#d8576b"
             ],
             [
              0.6666666666666666,
              "#ed7953"
             ],
             [
              0.7777777777777778,
              "#fb9f3a"
             ],
             [
              0.8888888888888888,
              "#fdca26"
             ],
             [
              1,
              "#f0f921"
             ]
            ],
            "type": "histogram2d"
           }
          ],
          "histogram2dcontour": [
           {
            "colorbar": {
             "outlinewidth": 0,
             "ticks": ""
            },
            "colorscale": [
             [
              0,
              "#0d0887"
             ],
             [
              0.1111111111111111,
              "#46039f"
             ],
             [
              0.2222222222222222,
              "#7201a8"
             ],
             [
              0.3333333333333333,
              "#9c179e"
             ],
             [
              0.4444444444444444,
              "#bd3786"
             ],
             [
              0.5555555555555556,
              "#d8576b"
             ],
             [
              0.6666666666666666,
              "#ed7953"
             ],
             [
              0.7777777777777778,
              "#fb9f3a"
             ],
             [
              0.8888888888888888,
              "#fdca26"
             ],
             [
              1,
              "#f0f921"
             ]
            ],
            "type": "histogram2dcontour"
           }
          ],
          "mesh3d": [
           {
            "colorbar": {
             "outlinewidth": 0,
             "ticks": ""
            },
            "type": "mesh3d"
           }
          ],
          "parcoords": [
           {
            "line": {
             "colorbar": {
              "outlinewidth": 0,
              "ticks": ""
             }
            },
            "type": "parcoords"
           }
          ],
          "pie": [
           {
            "automargin": true,
            "type": "pie"
           }
          ],
          "scatter": [
           {
            "fillpattern": {
             "fillmode": "overlay",
             "size": 10,
             "solidity": 0.2
            },
            "type": "scatter"
           }
          ],
          "scatter3d": [
           {
            "line": {
             "colorbar": {
              "outlinewidth": 0,
              "ticks": ""
             }
            },
            "marker": {
             "colorbar": {
              "outlinewidth": 0,
              "ticks": ""
             }
            },
            "type": "scatter3d"
           }
          ],
          "scattercarpet": [
           {
            "marker": {
             "colorbar": {
              "outlinewidth": 0,
              "ticks": ""
             }
            },
            "type": "scattercarpet"
           }
          ],
          "scattergeo": [
           {
            "marker": {
             "colorbar": {
              "outlinewidth": 0,
              "ticks": ""
             }
            },
            "type": "scattergeo"
           }
          ],
          "scattergl": [
           {
            "marker": {
             "colorbar": {
              "outlinewidth": 0,
              "ticks": ""
             }
            },
            "type": "scattergl"
           }
          ],
          "scattermapbox": [
           {
            "marker": {
             "colorbar": {
              "outlinewidth": 0,
              "ticks": ""
             }
            },
            "type": "scattermapbox"
           }
          ],
          "scatterpolar": [
           {
            "marker": {
             "colorbar": {
              "outlinewidth": 0,
              "ticks": ""
             }
            },
            "type": "scatterpolar"
           }
          ],
          "scatterpolargl": [
           {
            "marker": {
             "colorbar": {
              "outlinewidth": 0,
              "ticks": ""
             }
            },
            "type": "scatterpolargl"
           }
          ],
          "scatterternary": [
           {
            "marker": {
             "colorbar": {
              "outlinewidth": 0,
              "ticks": ""
             }
            },
            "type": "scatterternary"
           }
          ],
          "surface": [
           {
            "colorbar": {
             "outlinewidth": 0,
             "ticks": ""
            },
            "colorscale": [
             [
              0,
              "#0d0887"
             ],
             [
              0.1111111111111111,
              "#46039f"
             ],
             [
              0.2222222222222222,
              "#7201a8"
             ],
             [
              0.3333333333333333,
              "#9c179e"
             ],
             [
              0.4444444444444444,
              "#bd3786"
             ],
             [
              0.5555555555555556,
              "#d8576b"
             ],
             [
              0.6666666666666666,
              "#ed7953"
             ],
             [
              0.7777777777777778,
              "#fb9f3a"
             ],
             [
              0.8888888888888888,
              "#fdca26"
             ],
             [
              1,
              "#f0f921"
             ]
            ],
            "type": "surface"
           }
          ],
          "table": [
           {
            "cells": {
             "fill": {
              "color": "#EBF0F8"
             },
             "line": {
              "color": "white"
             }
            },
            "header": {
             "fill": {
              "color": "#C8D4E3"
             },
             "line": {
              "color": "white"
             }
            },
            "type": "table"
           }
          ]
         },
         "layout": {
          "annotationdefaults": {
           "arrowcolor": "#2a3f5f",
           "arrowhead": 0,
           "arrowwidth": 1
          },
          "autotypenumbers": "strict",
          "coloraxis": {
           "colorbar": {
            "outlinewidth": 0,
            "ticks": ""
           }
          },
          "colorscale": {
           "diverging": [
            [
             0,
             "#8e0152"
            ],
            [
             0.1,
             "#c51b7d"
            ],
            [
             0.2,
             "#de77ae"
            ],
            [
             0.3,
             "#f1b6da"
            ],
            [
             0.4,
             "#fde0ef"
            ],
            [
             0.5,
             "#f7f7f7"
            ],
            [
             0.6,
             "#e6f5d0"
            ],
            [
             0.7,
             "#b8e186"
            ],
            [
             0.8,
             "#7fbc41"
            ],
            [
             0.9,
             "#4d9221"
            ],
            [
             1,
             "#276419"
            ]
           ],
           "sequential": [
            [
             0,
             "#0d0887"
            ],
            [
             0.1111111111111111,
             "#46039f"
            ],
            [
             0.2222222222222222,
             "#7201a8"
            ],
            [
             0.3333333333333333,
             "#9c179e"
            ],
            [
             0.4444444444444444,
             "#bd3786"
            ],
            [
             0.5555555555555556,
             "#d8576b"
            ],
            [
             0.6666666666666666,
             "#ed7953"
            ],
            [
             0.7777777777777778,
             "#fb9f3a"
            ],
            [
             0.8888888888888888,
             "#fdca26"
            ],
            [
             1,
             "#f0f921"
            ]
           ],
           "sequentialminus": [
            [
             0,
             "#0d0887"
            ],
            [
             0.1111111111111111,
             "#46039f"
            ],
            [
             0.2222222222222222,
             "#7201a8"
            ],
            [
             0.3333333333333333,
             "#9c179e"
            ],
            [
             0.4444444444444444,
             "#bd3786"
            ],
            [
             0.5555555555555556,
             "#d8576b"
            ],
            [
             0.6666666666666666,
             "#ed7953"
            ],
            [
             0.7777777777777778,
             "#fb9f3a"
            ],
            [
             0.8888888888888888,
             "#fdca26"
            ],
            [
             1,
             "#f0f921"
            ]
           ]
          },
          "colorway": [
           "#636efa",
           "#EF553B",
           "#00cc96",
           "#ab63fa",
           "#FFA15A",
           "#19d3f3",
           "#FF6692",
           "#B6E880",
           "#FF97FF",
           "#FECB52"
          ],
          "font": {
           "color": "#2a3f5f"
          },
          "geo": {
           "bgcolor": "white",
           "lakecolor": "white",
           "landcolor": "white",
           "showlakes": true,
           "showland": true,
           "subunitcolor": "#C8D4E3"
          },
          "hoverlabel": {
           "align": "left"
          },
          "hovermode": "closest",
          "mapbox": {
           "style": "light"
          },
          "paper_bgcolor": "white",
          "plot_bgcolor": "white",
          "polar": {
           "angularaxis": {
            "gridcolor": "#EBF0F8",
            "linecolor": "#EBF0F8",
            "ticks": ""
           },
           "bgcolor": "white",
           "radialaxis": {
            "gridcolor": "#EBF0F8",
            "linecolor": "#EBF0F8",
            "ticks": ""
           }
          },
          "scene": {
           "xaxis": {
            "backgroundcolor": "white",
            "gridcolor": "#DFE8F3",
            "gridwidth": 2,
            "linecolor": "#EBF0F8",
            "showbackground": true,
            "ticks": "",
            "zerolinecolor": "#EBF0F8"
           },
           "yaxis": {
            "backgroundcolor": "white",
            "gridcolor": "#DFE8F3",
            "gridwidth": 2,
            "linecolor": "#EBF0F8",
            "showbackground": true,
            "ticks": "",
            "zerolinecolor": "#EBF0F8"
           },
           "zaxis": {
            "backgroundcolor": "white",
            "gridcolor": "#DFE8F3",
            "gridwidth": 2,
            "linecolor": "#EBF0F8",
            "showbackground": true,
            "ticks": "",
            "zerolinecolor": "#EBF0F8"
           }
          },
          "shapedefaults": {
           "line": {
            "color": "#2a3f5f"
           }
          },
          "ternary": {
           "aaxis": {
            "gridcolor": "#DFE8F3",
            "linecolor": "#A2B1C6",
            "ticks": ""
           },
           "baxis": {
            "gridcolor": "#DFE8F3",
            "linecolor": "#A2B1C6",
            "ticks": ""
           },
           "bgcolor": "white",
           "caxis": {
            "gridcolor": "#DFE8F3",
            "linecolor": "#A2B1C6",
            "ticks": ""
           }
          },
          "title": {
           "x": 0.05
          },
          "xaxis": {
           "automargin": true,
           "gridcolor": "#EBF0F8",
           "linecolor": "#EBF0F8",
           "ticks": "",
           "title": {
            "standoff": 15
           },
           "zerolinecolor": "#EBF0F8",
           "zerolinewidth": 2
          },
          "yaxis": {
           "automargin": true,
           "gridcolor": "#EBF0F8",
           "linecolor": "#EBF0F8",
           "ticks": "",
           "title": {
            "standoff": 15
           },
           "zerolinecolor": "#EBF0F8",
           "zerolinewidth": 2
          }
         }
        },
        "title": {
         "text": "⚖️ Top 50 Postcodes by Green Imbalance (Std. Dev)"
        },
        "xaxis": {
         "anchor": "y",
         "domain": [
          0,
          1
         ],
         "tickangle": -45,
         "title": {
          "text": "Postcode"
         },
         "type": "category"
        },
        "yaxis": {
         "anchor": "x",
         "domain": [
          0,
          1
         ],
         "title": {
          "text": "Green Imbalance (Std. Dev)"
         }
        }
       }
      }
     },
     "metadata": {},
     "output_type": "display_data"
    }
   ],
   "source": [
    "import plotly.express as px\n",
    "\n",
    "# Ensure 'green_std' exists (standard deviation across T/B/G)\n",
    "df['green_std'] = df[['percentagetrees', 'percentagebushes', 'percentagegrass']].std(axis=1)\n",
    "\n",
    "# Get top 50 most unbalanced postcodes\n",
    "top_unbalanced = df.sort_values(by='green_std', ascending=False).head(50)\n",
    "top_unbalanced['postcode'] = top_unbalanced['postcode'].astype(str)\n",
    "\n",
    "# Create interactive bar chart\n",
    "fig = px.bar(\n",
    "    top_unbalanced,\n",
    "    x='postcode',\n",
    "    y='green_std',\n",
    "    color='green_std',\n",
    "    color_continuous_scale='Oranges',\n",
    "    title='⚖️ Top 50 Postcodes by Green Imbalance (Std. Dev)',\n",
    "    labels={'green_std': 'Green Imbalance (Std. Dev)', 'postcode': 'Postcode'},\n",
    "    height=500\n",
    ")\n",
    "\n",
    "fig.update_layout(\n",
    "    xaxis_tickangle=-45,\n",
    "    bargap=0.2,\n",
    "    xaxis_type='category',\n",
    "    template='plotly_white'\n",
    ")\n",
    "\n",
    "fig.show()\n"
   ]
  },
  {
   "cell_type": "markdown",
   "id": "6428aa68",
   "metadata": {},
   "source": [
    "### 🧠 Interpretation of the Green Imbalance Chart\n",
    "\n",
    "This chart reveals the **top 50 postcodes with the most unbalanced green composition**.\n",
    "\n",
    "- A higher standard deviation means one green type (trees, bushes, or grass) dominates while others are lacking.\n",
    "- For example, some areas may have mostly grass and barely any trees or bushes.\n",
    "- The **dark orange bars** show areas with extreme imbalance, which could be ecologically vulnerable or less biodiverse.\n",
    "\n",
    "This insight can help urban planners or environmental agencies prioritize locations where a **more balanced green landscape** may be needed."
   ]
  },
  {
   "cell_type": "markdown",
   "id": "d0a79843",
   "metadata": {},
   "source": [
    "### 🌿 Interactive Visualization: Total Green Coverage by Postcode\n",
    "\n",
    "This chart shows the **top 50 postcodes with the highest total green coverage** (trees + bushes + grass).\n",
    "\n",
    "- Even though some values may exceed 100% (due to overlaps), it’s still a great indicator of how green an area is overall.\n",
    "- Darker greens represent higher total percentages, suggesting richer green environments.\n",
    "\n",
    "This helps highlight the greenest parts of the country — useful for ecological studies, planning, or even tourism insights.\n"
   ]
  },
  {
   "cell_type": "code",
   "execution_count": 10,
   "id": "57059381",
   "metadata": {},
   "outputs": [
    {
     "data": {
      "application/vnd.plotly.v1+json": {
       "config": {
        "plotlyServerURL": "https://plot.ly"
       },
       "data": [
        {
         "alignmentgroup": "True",
         "hovertemplate": "Postcode=%{x}<br>Total Green (%)=%{marker.color}<extra></extra>",
         "legendgroup": "",
         "marker": {
          "color": [
           140.81,
           140.5,
           136.94,
           136.76999999999998,
           132.2,
           131.32999999999998,
           128.93,
           128.75,
           128.63,
           128.62,
           128.57999999999998,
           128.05,
           127.95,
           127.8,
           126.92,
           126.39000000000001,
           125.49,
           124.92999999999999,
           122.77,
           122.28999999999999,
           121.92000000000002,
           121.52,
           121.14000000000001,
           121.08,
           120.25,
           120.04,
           119.81,
           119.80000000000001,
           119.25,
           119.07,
           118.94,
           118.91,
           118.85,
           118.83000000000001,
           118.81,
           118.5,
           118.3,
           117.87,
           117.49000000000001,
           117.36,
           117.32,
           116.62,
           116.18,
           116.18,
           115.9,
           115.89999999999999,
           115.48,
           115.38,
           115.38,
           115.15
          ],
          "coloraxis": "coloraxis",
          "pattern": {
           "shape": ""
          }
         },
         "name": "",
         "offsetgroup": "",
         "orientation": "v",
         "showlegend": false,
         "textposition": "auto",
         "type": "bar",
         "x": [
          "8896",
          "8899",
          "8894",
          "8881",
          "1865",
          "9163",
          "9162",
          "9166",
          "8897",
          "8895",
          "2236",
          "1935",
          "9164",
          "4568",
          "1796",
          "9526",
          "9975",
          "9455",
          "1969",
          "1795",
          "1832",
          "9161",
          "1901",
          "5264",
          "9976",
          "8882",
          "1797",
          "9464",
          "3252",
          "9359",
          "9485",
          "1791",
          "8756",
          "8919",
          "8573",
          "1783",
          "1871",
          "4327",
          "8891",
          "9333",
          "8218",
          "8095",
          "9306",
          "7348",
          "2051",
          "8066",
          "8883",
          "1861",
          "3046",
          "9466"
         ],
         "xaxis": "x",
         "y": [
          140.81,
          140.5,
          136.94,
          136.76999999999998,
          132.2,
          131.32999999999998,
          128.93,
          128.75,
          128.63,
          128.62,
          128.57999999999998,
          128.05,
          127.95,
          127.8,
          126.92,
          126.39000000000001,
          125.49,
          124.92999999999999,
          122.77,
          122.28999999999999,
          121.92000000000002,
          121.52,
          121.14000000000001,
          121.08,
          120.25,
          120.04,
          119.81,
          119.80000000000001,
          119.25,
          119.07,
          118.94,
          118.91,
          118.85,
          118.83000000000001,
          118.81,
          118.5,
          118.3,
          117.87,
          117.49000000000001,
          117.36,
          117.32,
          116.62,
          116.18,
          116.18,
          115.9,
          115.89999999999999,
          115.48,
          115.38,
          115.38,
          115.15
         ],
         "yaxis": "y"
        }
       ],
       "layout": {
        "bargap": 0.2,
        "barmode": "relative",
        "coloraxis": {
         "colorbar": {
          "title": {
           "text": "Total Green (%)"
          }
         },
         "colorscale": [
          [
           0,
           "rgb(247,252,245)"
          ],
          [
           0.125,
           "rgb(229,245,224)"
          ],
          [
           0.25,
           "rgb(199,233,192)"
          ],
          [
           0.375,
           "rgb(161,217,155)"
          ],
          [
           0.5,
           "rgb(116,196,118)"
          ],
          [
           0.625,
           "rgb(65,171,93)"
          ],
          [
           0.75,
           "rgb(35,139,69)"
          ],
          [
           0.875,
           "rgb(0,109,44)"
          ],
          [
           1,
           "rgb(0,68,27)"
          ]
         ]
        },
        "height": 500,
        "legend": {
         "tracegroupgap": 0
        },
        "template": {
         "data": {
          "bar": [
           {
            "error_x": {
             "color": "#2a3f5f"
            },
            "error_y": {
             "color": "#2a3f5f"
            },
            "marker": {
             "line": {
              "color": "white",
              "width": 0.5
             },
             "pattern": {
              "fillmode": "overlay",
              "size": 10,
              "solidity": 0.2
             }
            },
            "type": "bar"
           }
          ],
          "barpolar": [
           {
            "marker": {
             "line": {
              "color": "white",
              "width": 0.5
             },
             "pattern": {
              "fillmode": "overlay",
              "size": 10,
              "solidity": 0.2
             }
            },
            "type": "barpolar"
           }
          ],
          "carpet": [
           {
            "aaxis": {
             "endlinecolor": "#2a3f5f",
             "gridcolor": "#C8D4E3",
             "linecolor": "#C8D4E3",
             "minorgridcolor": "#C8D4E3",
             "startlinecolor": "#2a3f5f"
            },
            "baxis": {
             "endlinecolor": "#2a3f5f",
             "gridcolor": "#C8D4E3",
             "linecolor": "#C8D4E3",
             "minorgridcolor": "#C8D4E3",
             "startlinecolor": "#2a3f5f"
            },
            "type": "carpet"
           }
          ],
          "choropleth": [
           {
            "colorbar": {
             "outlinewidth": 0,
             "ticks": ""
            },
            "type": "choropleth"
           }
          ],
          "contour": [
           {
            "colorbar": {
             "outlinewidth": 0,
             "ticks": ""
            },
            "colorscale": [
             [
              0,
              "#0d0887"
             ],
             [
              0.1111111111111111,
              "#46039f"
             ],
             [
              0.2222222222222222,
              "#7201a8"
             ],
             [
              0.3333333333333333,
              "#9c179e"
             ],
             [
              0.4444444444444444,
              "#bd3786"
             ],
             [
              0.5555555555555556,
              "#d8576b"
             ],
             [
              0.6666666666666666,
              "#ed7953"
             ],
             [
              0.7777777777777778,
              "#fb9f3a"
             ],
             [
              0.8888888888888888,
              "#fdca26"
             ],
             [
              1,
              "#f0f921"
             ]
            ],
            "type": "contour"
           }
          ],
          "contourcarpet": [
           {
            "colorbar": {
             "outlinewidth": 0,
             "ticks": ""
            },
            "type": "contourcarpet"
           }
          ],
          "heatmap": [
           {
            "colorbar": {
             "outlinewidth": 0,
             "ticks": ""
            },
            "colorscale": [
             [
              0,
              "#0d0887"
             ],
             [
              0.1111111111111111,
              "#46039f"
             ],
             [
              0.2222222222222222,
              "#7201a8"
             ],
             [
              0.3333333333333333,
              "#9c179e"
             ],
             [
              0.4444444444444444,
              "#bd3786"
             ],
             [
              0.5555555555555556,
              "#d8576b"
             ],
             [
              0.6666666666666666,
              "#ed7953"
             ],
             [
              0.7777777777777778,
              "#fb9f3a"
             ],
             [
              0.8888888888888888,
              "#fdca26"
             ],
             [
              1,
              "#f0f921"
             ]
            ],
            "type": "heatmap"
           }
          ],
          "heatmapgl": [
           {
            "colorbar": {
             "outlinewidth": 0,
             "ticks": ""
            },
            "colorscale": [
             [
              0,
              "#0d0887"
             ],
             [
              0.1111111111111111,
              "#46039f"
             ],
             [
              0.2222222222222222,
              "#7201a8"
             ],
             [
              0.3333333333333333,
              "#9c179e"
             ],
             [
              0.4444444444444444,
              "#bd3786"
             ],
             [
              0.5555555555555556,
              "#d8576b"
             ],
             [
              0.6666666666666666,
              "#ed7953"
             ],
             [
              0.7777777777777778,
              "#fb9f3a"
             ],
             [
              0.8888888888888888,
              "#fdca26"
             ],
             [
              1,
              "#f0f921"
             ]
            ],
            "type": "heatmapgl"
           }
          ],
          "histogram": [
           {
            "marker": {
             "pattern": {
              "fillmode": "overlay",
              "size": 10,
              "solidity": 0.2
             }
            },
            "type": "histogram"
           }
          ],
          "histogram2d": [
           {
            "colorbar": {
             "outlinewidth": 0,
             "ticks": ""
            },
            "colorscale": [
             [
              0,
              "#0d0887"
             ],
             [
              0.1111111111111111,
              "#46039f"
             ],
             [
              0.2222222222222222,
              "#7201a8"
             ],
             [
              0.3333333333333333,
              "#9c179e"
             ],
             [
              0.4444444444444444,
              "#bd3786"
             ],
             [
              0.5555555555555556,
              "#d8576b"
             ],
             [
              0.6666666666666666,
              "#ed7953"
             ],
             [
              0.7777777777777778,
              "#fb9f3a"
             ],
             [
              0.8888888888888888,
              "#fdca26"
             ],
             [
              1,
              "#f0f921"
             ]
            ],
            "type": "histogram2d"
           }
          ],
          "histogram2dcontour": [
           {
            "colorbar": {
             "outlinewidth": 0,
             "ticks": ""
            },
            "colorscale": [
             [
              0,
              "#0d0887"
             ],
             [
              0.1111111111111111,
              "#46039f"
             ],
             [
              0.2222222222222222,
              "#7201a8"
             ],
             [
              0.3333333333333333,
              "#9c179e"
             ],
             [
              0.4444444444444444,
              "#bd3786"
             ],
             [
              0.5555555555555556,
              "#d8576b"
             ],
             [
              0.6666666666666666,
              "#ed7953"
             ],
             [
              0.7777777777777778,
              "#fb9f3a"
             ],
             [
              0.8888888888888888,
              "#fdca26"
             ],
             [
              1,
              "#f0f921"
             ]
            ],
            "type": "histogram2dcontour"
           }
          ],
          "mesh3d": [
           {
            "colorbar": {
             "outlinewidth": 0,
             "ticks": ""
            },
            "type": "mesh3d"
           }
          ],
          "parcoords": [
           {
            "line": {
             "colorbar": {
              "outlinewidth": 0,
              "ticks": ""
             }
            },
            "type": "parcoords"
           }
          ],
          "pie": [
           {
            "automargin": true,
            "type": "pie"
           }
          ],
          "scatter": [
           {
            "fillpattern": {
             "fillmode": "overlay",
             "size": 10,
             "solidity": 0.2
            },
            "type": "scatter"
           }
          ],
          "scatter3d": [
           {
            "line": {
             "colorbar": {
              "outlinewidth": 0,
              "ticks": ""
             }
            },
            "marker": {
             "colorbar": {
              "outlinewidth": 0,
              "ticks": ""
             }
            },
            "type": "scatter3d"
           }
          ],
          "scattercarpet": [
           {
            "marker": {
             "colorbar": {
              "outlinewidth": 0,
              "ticks": ""
             }
            },
            "type": "scattercarpet"
           }
          ],
          "scattergeo": [
           {
            "marker": {
             "colorbar": {
              "outlinewidth": 0,
              "ticks": ""
             }
            },
            "type": "scattergeo"
           }
          ],
          "scattergl": [
           {
            "marker": {
             "colorbar": {
              "outlinewidth": 0,
              "ticks": ""
             }
            },
            "type": "scattergl"
           }
          ],
          "scattermapbox": [
           {
            "marker": {
             "colorbar": {
              "outlinewidth": 0,
              "ticks": ""
             }
            },
            "type": "scattermapbox"
           }
          ],
          "scatterpolar": [
           {
            "marker": {
             "colorbar": {
              "outlinewidth": 0,
              "ticks": ""
             }
            },
            "type": "scatterpolar"
           }
          ],
          "scatterpolargl": [
           {
            "marker": {
             "colorbar": {
              "outlinewidth": 0,
              "ticks": ""
             }
            },
            "type": "scatterpolargl"
           }
          ],
          "scatterternary": [
           {
            "marker": {
             "colorbar": {
              "outlinewidth": 0,
              "ticks": ""
             }
            },
            "type": "scatterternary"
           }
          ],
          "surface": [
           {
            "colorbar": {
             "outlinewidth": 0,
             "ticks": ""
            },
            "colorscale": [
             [
              0,
              "#0d0887"
             ],
             [
              0.1111111111111111,
              "#46039f"
             ],
             [
              0.2222222222222222,
              "#7201a8"
             ],
             [
              0.3333333333333333,
              "#9c179e"
             ],
             [
              0.4444444444444444,
              "#bd3786"
             ],
             [
              0.5555555555555556,
              "#d8576b"
             ],
             [
              0.6666666666666666,
              "#ed7953"
             ],
             [
              0.7777777777777778,
              "#fb9f3a"
             ],
             [
              0.8888888888888888,
              "#fdca26"
             ],
             [
              1,
              "#f0f921"
             ]
            ],
            "type": "surface"
           }
          ],
          "table": [
           {
            "cells": {
             "fill": {
              "color": "#EBF0F8"
             },
             "line": {
              "color": "white"
             }
            },
            "header": {
             "fill": {
              "color": "#C8D4E3"
             },
             "line": {
              "color": "white"
             }
            },
            "type": "table"
           }
          ]
         },
         "layout": {
          "annotationdefaults": {
           "arrowcolor": "#2a3f5f",
           "arrowhead": 0,
           "arrowwidth": 1
          },
          "autotypenumbers": "strict",
          "coloraxis": {
           "colorbar": {
            "outlinewidth": 0,
            "ticks": ""
           }
          },
          "colorscale": {
           "diverging": [
            [
             0,
             "#8e0152"
            ],
            [
             0.1,
             "#c51b7d"
            ],
            [
             0.2,
             "#de77ae"
            ],
            [
             0.3,
             "#f1b6da"
            ],
            [
             0.4,
             "#fde0ef"
            ],
            [
             0.5,
             "#f7f7f7"
            ],
            [
             0.6,
             "#e6f5d0"
            ],
            [
             0.7,
             "#b8e186"
            ],
            [
             0.8,
             "#7fbc41"
            ],
            [
             0.9,
             "#4d9221"
            ],
            [
             1,
             "#276419"
            ]
           ],
           "sequential": [
            [
             0,
             "#0d0887"
            ],
            [
             0.1111111111111111,
             "#46039f"
            ],
            [
             0.2222222222222222,
             "#7201a8"
            ],
            [
             0.3333333333333333,
             "#9c179e"
            ],
            [
             0.4444444444444444,
             "#bd3786"
            ],
            [
             0.5555555555555556,
             "#d8576b"
            ],
            [
             0.6666666666666666,
             "#ed7953"
            ],
            [
             0.7777777777777778,
             "#fb9f3a"
            ],
            [
             0.8888888888888888,
             "#fdca26"
            ],
            [
             1,
             "#f0f921"
            ]
           ],
           "sequentialminus": [
            [
             0,
             "#0d0887"
            ],
            [
             0.1111111111111111,
             "#46039f"
            ],
            [
             0.2222222222222222,
             "#7201a8"
            ],
            [
             0.3333333333333333,
             "#9c179e"
            ],
            [
             0.4444444444444444,
             "#bd3786"
            ],
            [
             0.5555555555555556,
             "#d8576b"
            ],
            [
             0.6666666666666666,
             "#ed7953"
            ],
            [
             0.7777777777777778,
             "#fb9f3a"
            ],
            [
             0.8888888888888888,
             "#fdca26"
            ],
            [
             1,
             "#f0f921"
            ]
           ]
          },
          "colorway": [
           "#636efa",
           "#EF553B",
           "#00cc96",
           "#ab63fa",
           "#FFA15A",
           "#19d3f3",
           "#FF6692",
           "#B6E880",
           "#FF97FF",
           "#FECB52"
          ],
          "font": {
           "color": "#2a3f5f"
          },
          "geo": {
           "bgcolor": "white",
           "lakecolor": "white",
           "landcolor": "white",
           "showlakes": true,
           "showland": true,
           "subunitcolor": "#C8D4E3"
          },
          "hoverlabel": {
           "align": "left"
          },
          "hovermode": "closest",
          "mapbox": {
           "style": "light"
          },
          "paper_bgcolor": "white",
          "plot_bgcolor": "white",
          "polar": {
           "angularaxis": {
            "gridcolor": "#EBF0F8",
            "linecolor": "#EBF0F8",
            "ticks": ""
           },
           "bgcolor": "white",
           "radialaxis": {
            "gridcolor": "#EBF0F8",
            "linecolor": "#EBF0F8",
            "ticks": ""
           }
          },
          "scene": {
           "xaxis": {
            "backgroundcolor": "white",
            "gridcolor": "#DFE8F3",
            "gridwidth": 2,
            "linecolor": "#EBF0F8",
            "showbackground": true,
            "ticks": "",
            "zerolinecolor": "#EBF0F8"
           },
           "yaxis": {
            "backgroundcolor": "white",
            "gridcolor": "#DFE8F3",
            "gridwidth": 2,
            "linecolor": "#EBF0F8",
            "showbackground": true,
            "ticks": "",
            "zerolinecolor": "#EBF0F8"
           },
           "zaxis": {
            "backgroundcolor": "white",
            "gridcolor": "#DFE8F3",
            "gridwidth": 2,
            "linecolor": "#EBF0F8",
            "showbackground": true,
            "ticks": "",
            "zerolinecolor": "#EBF0F8"
           }
          },
          "shapedefaults": {
           "line": {
            "color": "#2a3f5f"
           }
          },
          "ternary": {
           "aaxis": {
            "gridcolor": "#DFE8F3",
            "linecolor": "#A2B1C6",
            "ticks": ""
           },
           "baxis": {
            "gridcolor": "#DFE8F3",
            "linecolor": "#A2B1C6",
            "ticks": ""
           },
           "bgcolor": "white",
           "caxis": {
            "gridcolor": "#DFE8F3",
            "linecolor": "#A2B1C6",
            "ticks": ""
           }
          },
          "title": {
           "x": 0.05
          },
          "xaxis": {
           "automargin": true,
           "gridcolor": "#EBF0F8",
           "linecolor": "#EBF0F8",
           "ticks": "",
           "title": {
            "standoff": 15
           },
           "zerolinecolor": "#EBF0F8",
           "zerolinewidth": 2
          },
          "yaxis": {
           "automargin": true,
           "gridcolor": "#EBF0F8",
           "linecolor": "#EBF0F8",
           "ticks": "",
           "title": {
            "standoff": 15
           },
           "zerolinecolor": "#EBF0F8",
           "zerolinewidth": 2
          }
         }
        },
        "title": {
         "text": "🌿 Top 50 Postcodes by Total Green Coverage (%)"
        },
        "xaxis": {
         "anchor": "y",
         "domain": [
          0,
          1
         ],
         "tickangle": -45,
         "title": {
          "text": "Postcode"
         },
         "type": "category"
        },
        "yaxis": {
         "anchor": "x",
         "domain": [
          0,
          1
         ],
         "title": {
          "text": "Total Green (%)"
         }
        }
       }
      }
     },
     "metadata": {},
     "output_type": "display_data"
    }
   ],
   "source": [
    "import plotly.express as px\n",
    "\n",
    "# Ensure 'total_green' column exists\n",
    "df['total_green'] = df['percentagetrees'] + df['percentagebushes'] + df['percentagegrass']\n",
    "\n",
    "# Sort and select top 50 greenest postcodes\n",
    "top_total_green = df.sort_values(by='total_green', ascending=False).head(50)\n",
    "top_total_green['postcode'] = top_total_green['postcode'].astype(str)\n",
    "\n",
    "# Plot\n",
    "fig = px.bar(\n",
    "    top_total_green,\n",
    "    x='postcode',\n",
    "    y='total_green',\n",
    "    color='total_green',\n",
    "    color_continuous_scale='Greens',\n",
    "    title='🌿 Top 50 Postcodes by Total Green Coverage (%)',\n",
    "    labels={'total_green': 'Total Green (%)', 'postcode': 'Postcode'},\n",
    "    height=500\n",
    ")\n",
    "\n",
    "fig.update_layout(\n",
    "    xaxis_tickangle=-45,\n",
    "    bargap=0.2,\n",
    "    xaxis_type='category',\n",
    "    template='plotly_white'\n",
    ")\n",
    "\n",
    "fig.show()\n"
   ]
  },
  {
   "cell_type": "markdown",
   "id": "65779ea6",
   "metadata": {},
   "source": [
    "### 🌍 Interpretation of the Total Green Coverage Chart\n",
    "\n",
    "This interactive chart highlights the **top 50 postcodes with the highest overall green surface percentage**, combining trees, bushes, and grass.\n",
    "\n",
    "- Some values exceed 100% due to **overlapping greenery** (e.g., grass under trees), which is expected in the dataset.\n",
    "- Darker green bars indicate postcodes with the richest vegetation.\n",
    "- This gives a **broad view of environmental richness**, helping us identify the greenest parts of the Netherlands.\n",
    "\n",
    "Such visuals are useful for understanding large-scale green distribution and can support discussions on sustainability, city planning, or even wellbeing.\n"
   ]
  },
  {
   "cell_type": "markdown",
   "id": "3194c5bc",
   "metadata": {},
   "source": [
    "## 🎨 RGB Color Mapping of Green Composition\n",
    "\n",
    "To creatively visualize each postcode's green fingerprint, we map the three greenery types to RGB color channels:\n",
    "\n",
    "- **Trees → Red**\n",
    "- **Bushes → Green**\n",
    "- **Grass → Blue**\n",
    "\n",
    "By scaling each percentage to the RGB range (0–255), we assign a unique color to each postcode that reflects its green composition. \n",
    "\n",
    "### 🧠 Interpretation:\n",
    "- A **reddish** color → high tree coverage\n",
    "- A **greenish** color → high bush coverage\n",
    "- A **bluish** or **purple tone** → lots of grass\n",
    "- A **whiter/lighter** color → generally greener area with balance\n"
   ]
  },
  {
   "cell_type": "code",
   "execution_count": 11,
   "id": "ecc36fb7",
   "metadata": {},
   "outputs": [
    {
     "data": {
      "text/html": [
       "<div>\n",
       "<style scoped>\n",
       "    .dataframe tbody tr th:only-of-type {\n",
       "        vertical-align: middle;\n",
       "    }\n",
       "\n",
       "    .dataframe tbody tr th {\n",
       "        vertical-align: top;\n",
       "    }\n",
       "\n",
       "    .dataframe thead th {\n",
       "        text-align: right;\n",
       "    }\n",
       "</style>\n",
       "<table border=\"1\" class=\"dataframe\">\n",
       "  <thead>\n",
       "    <tr style=\"text-align: right;\">\n",
       "      <th></th>\n",
       "      <th>postcode</th>\n",
       "      <th>percentagetrees</th>\n",
       "      <th>percentagebushes</th>\n",
       "      <th>percentagegrass</th>\n",
       "      <th>R</th>\n",
       "      <th>G</th>\n",
       "      <th>B</th>\n",
       "      <th>color</th>\n",
       "    </tr>\n",
       "  </thead>\n",
       "  <tbody>\n",
       "    <tr>\n",
       "      <th>0</th>\n",
       "      <td>1011</td>\n",
       "      <td>20.29</td>\n",
       "      <td>5.89</td>\n",
       "      <td>17.21</td>\n",
       "      <td>73</td>\n",
       "      <td>47</td>\n",
       "      <td>11</td>\n",
       "      <td>#492f0b</td>\n",
       "    </tr>\n",
       "    <tr>\n",
       "      <th>1</th>\n",
       "      <td>1012</td>\n",
       "      <td>16.31</td>\n",
       "      <td>4.38</td>\n",
       "      <td>13.89</td>\n",
       "      <td>59</td>\n",
       "      <td>29</td>\n",
       "      <td>0</td>\n",
       "      <td>#3b1d00</td>\n",
       "    </tr>\n",
       "    <tr>\n",
       "      <th>2</th>\n",
       "      <td>1013</td>\n",
       "      <td>21.12</td>\n",
       "      <td>7.54</td>\n",
       "      <td>30.54</td>\n",
       "      <td>76</td>\n",
       "      <td>67</td>\n",
       "      <td>55</td>\n",
       "      <td>#4c4337</td>\n",
       "    </tr>\n",
       "    <tr>\n",
       "      <th>3</th>\n",
       "      <td>1014</td>\n",
       "      <td>29.92</td>\n",
       "      <td>10.18</td>\n",
       "      <td>41.75</td>\n",
       "      <td>108</td>\n",
       "      <td>99</td>\n",
       "      <td>92</td>\n",
       "      <td>#6c635c</td>\n",
       "    </tr>\n",
       "    <tr>\n",
       "      <th>4</th>\n",
       "      <td>1015</td>\n",
       "      <td>21.36</td>\n",
       "      <td>7.43</td>\n",
       "      <td>17.37</td>\n",
       "      <td>77</td>\n",
       "      <td>66</td>\n",
       "      <td>11</td>\n",
       "      <td>#4d420b</td>\n",
       "    </tr>\n",
       "  </tbody>\n",
       "</table>\n",
       "</div>"
      ],
      "text/plain": [
       "   postcode  percentagetrees  percentagebushes  percentagegrass    R   G   B  \\\n",
       "0      1011            20.29              5.89            17.21   73  47  11   \n",
       "1      1012            16.31              4.38            13.89   59  29   0   \n",
       "2      1013            21.12              7.54            30.54   76  67  55   \n",
       "3      1014            29.92             10.18            41.75  108  99  92   \n",
       "4      1015            21.36              7.43            17.37   77  66  11   \n",
       "\n",
       "     color  \n",
       "0  #492f0b  \n",
       "1  #3b1d00  \n",
       "2  #4c4337  \n",
       "3  #6c635c  \n",
       "4  #4d420b  "
      ]
     },
     "execution_count": 11,
     "metadata": {},
     "output_type": "execute_result"
    }
   ],
   "source": [
    "# Normalize percentages to 0–255 scale and convert to integers\n",
    "def scale_to_rgb(series):\n",
    "    return ((series - series.min()) / (series.max() - series.min()) * 255).round().astype(int)\n",
    "\n",
    "df['R'] = scale_to_rgb(df['percentagetrees'])     # Trees → Red\n",
    "df['G'] = scale_to_rgb(df['percentagebushes'])    # Bushes → Green\n",
    "df['B'] = scale_to_rgb(df['percentagegrass'])     # Grass → Blue\n",
    "\n",
    "# Ensure columns are integers (in case of dtype errors)\n",
    "df['R'] = df['R'].astype(int)\n",
    "df['G'] = df['G'].astype(int)\n",
    "df['B'] = df['B'].astype(int)\n",
    "\n",
    "# Create RGB hex color safely by casting to int in the lambda\n",
    "df['color'] = df.apply(lambda row: f'#{int(row.R):02x}{int(row.G):02x}{int(row.B):02x}', axis=1)\n",
    "\n",
    "# Preview\n",
    "df[['postcode', 'percentagetrees', 'percentagebushes', 'percentagegrass', 'R', 'G', 'B', 'color']].head()\n"
   ]
  },
  {
   "cell_type": "markdown",
   "id": "708a40d4",
   "metadata": {},
   "source": [
    "## 🎨 Visualizing Green Fingerprints\n",
    "\n",
    "Now that we’ve mapped trees, bushes, and grass to RGB values, each postcode has its own **color identity**. \n",
    "\n",
    "We visualize a sample of 20 postcodes as color swatches below to represent their green composition.\n",
    "\n",
    "Each color block is labeled with the postcode, giving a quick, visual overview of green diversity across regions.\n"
   ]
  },
  {
   "cell_type": "code",
   "execution_count": 12,
   "id": "0409b974",
   "metadata": {},
   "outputs": [
    {
     "name": "stderr",
     "output_type": "stream",
     "text": [
      "C:\\Users\\HP1\\AppData\\Roaming\\Python\\Python311\\site-packages\\IPython\\core\\pylabtools.py:152: UserWarning:\n",
      "\n",
      "Glyph 127752 (\\N{RAINBOW}) missing from current font.\n",
      "\n"
     ]
    },
    {
     "data": {
      "image/png": "[encoded data removed]",
      "text/plain": [
       "<Figure size 1500x300 with 1 Axes>"
      ]
     },
     "metadata": {},
     "output_type": "display_data"
    }
   ],
   "source": [
    "import matplotlib.pyplot as plt\n",
    "\n",
    "# Sample 20 postcodes randomly for display\n",
    "sample = df.sample(20, random_state=42).reset_index(drop=True)\n",
    "\n",
    "# Plot color blocks\n",
    "plt.figure(figsize=(15, 3))\n",
    "for i, row in sample.iterrows():\n",
    "    plt.gca().add_patch(plt.Rectangle((i, 0), 1, 1, color=row['color']))\n",
    "    plt.text(i + 0.5, -0.1, str(row['postcode']), ha='center', va='top', fontsize=9)\n",
    "\n",
    "plt.xlim(0, 20)\n",
    "plt.ylim(-0.2, 1)\n",
    "plt.axis('off')\n",
    "plt.title('🌈 Sample Green Fingerprints by Postcode', fontsize=14)\n",
    "plt.show()\n"
   ]
  },
  {
   "cell_type": "markdown",
   "id": "a53b3d68",
   "metadata": {},
   "source": [
    "## 🔍 Insights & Observations\n",
    "\n",
    "### 🎨 RGB Mapping Reflections:\n",
    "- Each postcode has a unique color based on its greenery balance.\n",
    "- The visual differences help us quickly **spot diversity** in green composition.\n",
    "- Some blocks are **reddish** (tree-heavy), others **blueish** (grass-heavy), while some are **neutral or balanced** (mix of RGB).\n",
    "\n",
    "### 🌈 Usefulness:\n",
    "- This technique can help urban planners identify regions where greenery is unbalanced.\n",
    "- Lighter colors generally suggest **greener postcodes overall**, while darker shades may suggest imbalance or low greenery.\n",
    "- Comparing these colors across maps or cities could reveal broader ecological patterns.\n",
    "\n",
    "This visual approach turns raw numbers into an intuitive visual story.\n"
   ]
  },
  {
   "cell_type": "markdown",
   "id": "dde36dcb",
   "metadata": {},
   "source": [
    "## 🧩 Green Space Explorer Dashboard\n",
    "Interactively explore green space composition by postcode.  \n",
    "Use the dropdown to inspect Trees, Bushes, and Grass percentages for individual areas."
   ]
  },
  {
   "cell_type": "markdown",
   "id": "80799c48",
   "metadata": {},
   "source": [
    "## 📊 Project Summary & Outcomes\n",
    "\n",
    "This project explored the distribution and balance of green space — **trees**, **bushes**, and **grass** — across Dutch postcodes using a unique and creative data visualization approach.\n",
    "\n",
    "### 🔍 What We Did:\n",
    "- Cleaned and explored the data (4070 postcodes)  \n",
    "- Calculated a **green imbalance metric** using standard deviation  \n",
    "- Visualized green type distributions with histograms  \n",
    "- Created **interactive visualizations** for tree coverage, green imbalance, and total green  \n",
    "- Mapped each postcode’s green composition into an **RGB color code**  \n",
    "- Displayed a color grid showing each postcode’s **green fingerprint**  \n",
    "\n",
    "\n",
    "### 💡 Key Takeaways:\n",
    "- Grass dominates most regions, while bushes are underrepresented  \n",
    "- Some postcodes show strong imbalance (e.g., high grass or tree dominance)  \n",
    "- RGB mapping allowed us to **see composition differences instantly**, offering a new way to think about environmental data  \n",
    "- Interactive charts provided an intuitive way to explore green patterns and compare postcodes  \n",
    "\n",
    "This project proves that **data visualization can be beautiful, functional, and insightful — all at once.**\n",
    "\n",
    "##### ⚠️ *Tried multiple approaches to visualize the RGB data on an actual map of the Netherlands using libraries like `map_nl`, but encountered repeated memory and compatibility errors (both locally and in Colab), so this step was left out for now.*\n"
   ]
  },
  {
   "cell_type": "markdown",
   "id": "04f00c77",
   "metadata": {},
   "source": [
    "## ✅ Conclusion\n",
    "\n",
    "This visualization project helped uncover spatial patterns in green coverage across the Netherlands. While the data was initially simple, combining basic statistics with creative RGB encoding added depth. Further improvements like mapping these colors geographically or linking with population data could uncover even more valuable insights.\n"
   ]
  }
 ],
 "metadata": {
  "kernelspec": {
   "display_name": "Python (myenv)",
   "language": "python",
   "name": "myenv"
  },
  "language_info": {
   "codemirror_mode": {
    "name": "ipython",
    "version": 3
   },
   "file_extension": ".py",
   "mimetype": "text/x-python",
   "name": "python",
   "nbconvert_exporter": "python",
   "pygments_lexer": "ipython3",
   "version": "3.11.5"
  }
 },
 "nbformat": 4,
 "nbformat_minor": 5
}
